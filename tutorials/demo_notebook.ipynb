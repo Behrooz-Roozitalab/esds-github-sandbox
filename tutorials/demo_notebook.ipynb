{
 "cells": [
  {
   "cell_type": "markdown",
   "id": "0ef3c4c1-2894-4aa1-95e1-b9753420e5da",
   "metadata": {},
   "source": [
    "# Demo Jupyter Notebook\n",
    "\n",
    "## Markdown cells\n",
    "This is a Markdown cell.  \n",
    "\n",
    "You can find more information about how to format Markdown cells [here in the Jupyter Notebook documentation](https://jupyter-notebook.readthedocs.io/en/stable/examples/Notebook/Working%20With%20Markdown%20Cells.html).  \n",
    "\n",
    "This includes how to do things like\n",
    "1. make\n",
    "2. a\n",
    "3. list\n",
    "\n",
    "Or add an equation\n",
    "\n",
    "\\begin{equation}\n",
    "\\frac{\\partial X}{\\partial t} = I-O\n",
    "\\end{equation}\n",
    "\n",
    "Or include a code block\n",
    "```\n",
    "print('a bit of Python')\n",
    "```\n",
    "\n",
    "## Code cells\n",
    "\n",
    "Below is a code cell.  \n",
    "\n",
    "Since this notebook uses a Python kernel, it will use Python.  \n",
    "\n",
    "Try running the cell below."
   ]
  },
  {
   "cell_type": "code",
   "execution_count": null,
   "id": "e40189ff-279a-48cc-9a42-a14ea9362c37",
   "metadata": {},
   "outputs": [],
   "source": [
    "print('Hello, world!')"
   ]
  }
 ],
 "metadata": {
  "kernelspec": {
   "display_name": "Python 3 (ipykernel)",
   "language": "python",
   "name": "python3"
  },
  "language_info": {
   "codemirror_mode": {
    "name": "ipython",
    "version": 3
   },
   "file_extension": ".py",
   "mimetype": "text/x-python",
   "name": "python",
   "nbconvert_exporter": "python",
   "pygments_lexer": "ipython3",
   "version": "3.12.1"
  }
 },
 "nbformat": 4,
 "nbformat_minor": 5
}
